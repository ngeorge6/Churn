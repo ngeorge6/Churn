{
  "nbformat": 4,
  "nbformat_minor": 0,
  "metadata": {
    "colab": {
      "name": "Churn.ipynb",
      "provenance": [],
      "collapsed_sections": []
    },
    "kernelspec": {
      "name": "python3",
      "display_name": "Python 3"
    },
    "accelerator": "GPU"
  },
  "cells": [
    {
      "cell_type": "code",
      "metadata": {
        "id": "afu1eLFAb4iT",
        "colab_type": "code",
        "colab": {
          "base_uri": "https://localhost:8080/",
          "height": 106
        },
        "outputId": "a7d57ef2-eb52-40e7-d4c9-4a515c6f2eb1"
      },
      "source": [
        "!pip install vecstack"
      ],
      "execution_count": null,
      "outputs": [
        {
          "output_type": "stream",
          "text": [
            "Requirement already satisfied: vecstack in /usr/local/lib/python3.6/dist-packages (0.4.0)\n",
            "Requirement already satisfied: numpy in /usr/local/lib/python3.6/dist-packages (from vecstack) (1.17.4)\n",
            "Requirement already satisfied: scikit-learn>=0.18 in /usr/local/lib/python3.6/dist-packages (from vecstack) (0.21.3)\n",
            "Requirement already satisfied: scipy in /usr/local/lib/python3.6/dist-packages (from vecstack) (1.3.3)\n",
            "Requirement already satisfied: joblib>=0.11 in /usr/local/lib/python3.6/dist-packages (from scikit-learn>=0.18->vecstack) (0.14.0)\n"
          ],
          "name": "stdout"
        }
      ]
    },
    {
      "cell_type": "code",
      "metadata": {
        "id": "kxbAixEMFIhi",
        "colab_type": "code",
        "colab": {
          "base_uri": "https://localhost:8080/",
          "height": 53
        },
        "outputId": "771a4418-e489-4219-edce-d6fcf9da26da"
      },
      "source": [
        "from vecstack import stacking\n",
        "import pandas as pd\n",
        "import numpy as np\n",
        "from sklearn.metrics import accuracy_score #works\n",
        "from sklearn.model_selection import train_test_split\n",
        "from sklearn.ensemble import RandomForestClassifier\n",
        "from sklearn.tree import DecisionTreeClassifier\n",
        "from sklearn.model_selection import GridSearchCV\n",
        "from sklearn.model_selection import RandomizedSearchCV\n",
        "from sklearn.model_selection import cross_val_score\n",
        "from sklearn.metrics import classification_report, confusion_matrix\n",
        "from sklearn.ensemble import GradientBoostingClassifier\n",
        "from sklearn.neural_network import MLPClassifier\n",
        "#from sklearn.ensemble import RandomForestClassifier\n",
        "from imblearn.over_sampling import SMOTE \n",
        "from sklearn.svm import SVC\n",
        "from collections import Counter #for Smote, \n",
        "\n",
        "import warnings\n",
        "warnings.filterwarnings(\"ignore\")\n",
        "\n",
        "import pandas as pd\n",
        "from sklearn.preprocessing import label_binarize\n",
        "import numpy as np\n",
        "from sklearn.model_selection import train_test_split\n",
        "from sklearn.ensemble import RandomForestClassifier\n",
        "from sklearn.tree import DecisionTreeClassifier\n",
        "from sklearn.model_selection import GridSearchCV\n",
        "from sklearn.model_selection import RandomizedSearchCV\n",
        "from sklearn.model_selection import cross_val_score\n",
        "from sklearn.metrics import classification_report, confusion_matrix\n",
        "from sklearn.ensemble import GradientBoostingClassifier\n",
        "from sklearn.svm import LinearSVC\n",
        "from sklearn.neural_network import MLPClassifier\n",
        "from imblearn.over_sampling import SMOTE \n",
        "from collections import Counter\n",
        "\n",
        "import warnings\n",
        "warnings.filterwarnings(\"ignore\")\n",
        "#Please ignore the warnings with version change\n",
        "\n",
        "from google.colab import drive\n",
        "drive.mount('/gdrive')\n",
        "#Change current working directory to gdrive\n",
        "%cd /gdrive\n"
      ],
      "execution_count": null,
      "outputs": [
        {
          "output_type": "stream",
          "text": [
            "Drive already mounted at /gdrive; to attempt to forcibly remount, call drive.mount(\"/gdrive\", force_remount=True).\n",
            "/gdrive\n"
          ],
          "name": "stdout"
        }
      ]
    },
    {
      "cell_type": "code",
      "metadata": {
        "id": "tJCwp_BdGG76",
        "colab_type": "code",
        "colab": {
          "base_uri": "https://localhost:8080/",
          "height": 53
        },
        "outputId": "a0e5053b-a1cd-46e8-9bb8-a0d902baa885"
      },
      "source": [
        "trainfile = r'/gdrive/My Drive/CIS 508/Assignment/HW6/Churn-Train-1.csv'\n",
        "trainData = pd.read_csv(trainfile) #creates a dataframe\n",
        "testfile = r'/gdrive/My Drive/CIS 508/Assignment/HW6/Churn-Test-1.csv'\n",
        "testData = pd.read_csv(testfile)  #creates a dataframe\n",
        "\n",
        "print (trainData.shape)\n",
        "print (testData.shape)"
      ],
      "execution_count": null,
      "outputs": [
        {
          "output_type": "stream",
          "text": [
            "(1165, 21)\n",
            "(1261, 21)\n"
          ],
          "name": "stdout"
        }
      ]
    },
    {
      "cell_type": "code",
      "metadata": {
        "id": "NNmzWwkdGeSE",
        "colab_type": "code",
        "colab": {
          "base_uri": "https://localhost:8080/",
          "height": 35
        },
        "outputId": "263d7edd-1bb1-49ec-8f56-16fd0b57f1ed"
      },
      "source": [
        "catFeatures = [\"State\", \"Int'l Plan\", 'VMail Plan']\n",
        "combined_Data = pd.concat([trainData,testData], keys=[0,1])\n",
        "combined_Data = pd.get_dummies(combined_Data, columns=catFeatures)\n",
        "\n",
        "print(combined_Data.shape)"
      ],
      "execution_count": null,
      "outputs": [
        {
          "output_type": "stream",
          "text": [
            "(2426, 73)\n"
          ],
          "name": "stdout"
        }
      ]
    },
    {
      "cell_type": "code",
      "metadata": {
        "id": "XQhqcPHuKA6M",
        "colab_type": "code",
        "colab": {
          "base_uri": "https://localhost:8080/",
          "height": 35
        },
        "outputId": "1eabbf59-672c-4d91-e72a-72f28636d0fb"
      },
      "source": [
        "trainData = combined_Data.xs(0)\n",
        "testData = combined_Data.xs(1)\n",
        "\n",
        "y_train = trainData[\"TARGET\"]\n",
        "X_train = trainData.drop([\"TARGET\",'Phone'], axis=1) #extracting training data without the target column\n",
        "y_test = testData[\"TARGET\"]\n",
        "X_test = testData.drop([\"TARGET\",'Phone'], axis=1) #extracting training data without the target column\n",
        "\n",
        "print(X_test.shape)"
      ],
      "execution_count": null,
      "outputs": [
        {
          "output_type": "stream",
          "text": [
            "(1261, 71)\n"
          ],
          "name": "stdout"
        }
      ]
    },
    {
      "cell_type": "code",
      "metadata": {
        "id": "zM8Cj5H_LwxQ",
        "colab_type": "code",
        "colab": {}
      },
      "source": [
        "from sklearn.preprocessing import LabelEncoder\n",
        "pd.set_option('display.max_columns',None)#displaying long list of columns\n",
        "pd.set_option('display.max_rows', None)#displaying long list of rows\n",
        "pd.set_option('display.width', 1000)#width of window"
      ],
      "execution_count": null,
      "outputs": []
    },
    {
      "cell_type": "code",
      "metadata": {
        "id": "9_c4EUdtLy-P",
        "colab_type": "code",
        "colab": {}
      },
      "source": [
        "#Missing Values\n",
        "\n",
        "numeric=X_test.select_dtypes(include=['int','float64']).columns\n",
        "for num in numeric:\n",
        " X_test[num]=X_test[num].fillna(X_test[num].mean())"
      ],
      "execution_count": null,
      "outputs": []
    },
    {
      "cell_type": "code",
      "metadata": {
        "id": "TSJ4kL3ZKicV",
        "colab_type": "code",
        "colab": {
          "base_uri": "https://localhost:8080/",
          "height": 267
        },
        "outputId": "c0c16ca2-7bcb-437c-ad19-68fa62310f84"
      },
      "source": [
        "#Decision Tree Default\n",
        "clf = DecisionTreeClassifier()\n",
        "clf.fit(X_train,y_train)\n",
        "clf_predict = clf.predict(X_test)\n",
        "\n",
        "print(\"accuracy Score (training) for Decision TreE:{0:6f}\".format(clf.score(X_test,y_test)))\n",
        "print(\"Confusion Matrix for Decision Tree\")\n",
        "print(confusion_matrix(y_test,clf_predict))\n",
        "print(\"=== Classification Report ===\")\n",
        "print(classification_report(y_test,clf_predict))"
      ],
      "execution_count": null,
      "outputs": [
        {
          "output_type": "stream",
          "text": [
            "accuracy Score (training) for Decision TreE:0.908803\n",
            "Confusion Matrix for Decision Tree\n",
            "[[1027   42]\n",
            " [  73  119]]\n",
            "=== Classification Report ===\n",
            "              precision    recall  f1-score   support\n",
            "\n",
            "           0       0.93      0.96      0.95      1069\n",
            "           1       0.74      0.62      0.67       192\n",
            "\n",
            "    accuracy                           0.91      1261\n",
            "   macro avg       0.84      0.79      0.81      1261\n",
            "weighted avg       0.90      0.91      0.91      1261\n",
            "\n"
          ],
          "name": "stdout"
        }
      ]
    },
    {
      "cell_type": "code",
      "metadata": {
        "id": "6uFJmjjhYmID",
        "colab_type": "code",
        "colab": {
          "base_uri": "https://localhost:8080/",
          "height": 428
        },
        "outputId": "b7aa1f67-666b-46c4-8eef-a50a59fbb0bb"
      },
      "source": [
        "#Hyperparameter tuning done for decision tree classifier\n",
        "#RANDOM SEARCH--------------------------------------------\n",
        "print(\"RandomizedSearchCV-Decision tree\")\n",
        "parameters={'min_samples_leaf' : range(10,100,10),'max_depth': range(5,30,5),'criterion':['gini','entropy']}\n",
        "clf_random = RandomizedSearchCV(clf,parameters,n_iter=15,cv=5)\n",
        "clf_random.fit(X_train, y_train)\n",
        "grid_parm=clf_random.best_params_\n",
        "print(grid_parm)\n",
        "\n",
        "#GRID SEARCH----------------------------------------\n",
        "print(\"GridSearchCV-Decision tree\")\n",
        "clf_grid = GridSearchCV(clf,parameters)\n",
        "clf_grid.fit(X_train, y_train)\n",
        "grid_parm1=clf_grid.best_params_\n",
        "print(grid_parm1)\n",
        "\n",
        "#Using the parameters obtained from HyperParameterTuning in the DecisionTreeClassifier \n",
        "clf = DecisionTreeClassifier(**grid_parm)\n",
        "clfr = DecisionTreeClassifier(**grid_parm1)\n",
        "\n",
        "clf.fit(X_train,y_train)\n",
        "clf_predict = clf.predict(X_test)\n",
        "clfr.fit(X_train,y_train)\n",
        "clfr_predict = clfr.predict(X_test)\n",
        "\n",
        "\n",
        "#Obtain accuracy ,confusion matrix,classification report and AUC values for the result above.\n",
        "print(\"accuracy Score (training) after hypertuning randomized search for Decision Tree:{0:6f}\".format(clf.score(X_train,y_train)))\n",
        "\n",
        "print(\"accuracy Score (testing) after hypertuning grid search for Decision Tree:{0:6f}\".format(clfr.score(X_test,y_test)))\n",
        "print(\"Confusion Matrix after hypertuning for Decision Tree\")\n",
        "print(confusion_matrix(y_test,clf_predict))\n",
        "print(\"=== Classification Report ===\")\n",
        "print(classification_report(y_test,clf_predict))\n",
        "\n",
        "clf_cv_score = cross_val_score(clf, X_train, y_train, cv=10, scoring=\"balanced_accuracy\")\n",
        "print(clf_cv_score)\n",
        "print('\\n')"
      ],
      "execution_count": null,
      "outputs": [
        {
          "output_type": "stream",
          "text": [
            "RandomizedSearchCV-Decision tree\n",
            "{'min_samples_leaf': 10, 'max_depth': 15, 'criterion': 'gini'}\n",
            "GridSearchCV-Decision tree\n",
            "{'criterion': 'gini', 'max_depth': 5, 'min_samples_leaf': 10}\n",
            "accuracy Score (training) after hypertuning randomized search for Decision Tree:0.943348\n",
            "accuracy Score (testing) after hypertuning grid search for Decision Tree:0.918319\n",
            "Confusion Matrix after hypertuning for Decision Tree\n",
            "[[1045   24]\n",
            " [  78  114]]\n",
            "=== Classification Report ===\n",
            "              precision    recall  f1-score   support\n",
            "\n",
            "           0       0.93      0.98      0.95      1069\n",
            "           1       0.83      0.59      0.69       192\n",
            "\n",
            "    accuracy                           0.92      1261\n",
            "   macro avg       0.88      0.79      0.82      1261\n",
            "weighted avg       0.91      0.92      0.91      1261\n",
            "\n",
            "[0.66176471 0.78529412 0.72352941 0.72352941 0.78039216 0.78529412\n",
            " 0.78711485 0.70938375 0.76120448 0.69448373]\n",
            "\n",
            "\n"
          ],
          "name": "stdout"
        }
      ]
    },
    {
      "cell_type": "code",
      "metadata": {
        "id": "mrIsT7r7PzzO",
        "colab_type": "code",
        "colab": {
          "base_uri": "https://localhost:8080/",
          "height": 267
        },
        "outputId": "91fe921e-6679-4c87-e254-663460d9f304"
      },
      "source": [
        "# Random Forest Default\n",
        "rfc = RandomForestClassifier()\n",
        "rfc.fit(X_train,y_train)\n",
        "rfc_predict = rfc.predict(X_test)\n",
        "\n",
        "print(\"accuracy Score (training) for Random Forest:{0:6f}\".format(rfc.score(X_test,y_test)))\n",
        "print(\"Confusion Matrix for Random Forest\")\n",
        "print(confusion_matrix(y_test,rfc_predict))\n",
        "print(\"=== Classification Report ===\")\n",
        "print(classification_report(y_test,rfc_predict))"
      ],
      "execution_count": null,
      "outputs": [
        {
          "output_type": "stream",
          "text": [
            "accuracy Score (training) for Random Forest:0.902458\n",
            "Confusion Matrix for Random Forest\n",
            "[[1061    8]\n",
            " [ 115   77]]\n",
            "=== Classification Report ===\n",
            "              precision    recall  f1-score   support\n",
            "\n",
            "           0       0.90      0.99      0.95      1069\n",
            "           1       0.91      0.40      0.56       192\n",
            "\n",
            "    accuracy                           0.90      1261\n",
            "   macro avg       0.90      0.70      0.75      1261\n",
            "weighted avg       0.90      0.90      0.89      1261\n",
            "\n"
          ],
          "name": "stdout"
        }
      ]
    },
    {
      "cell_type": "code",
      "metadata": {
        "id": "h1gspDokXZwb",
        "colab_type": "code",
        "colab": {
          "base_uri": "https://localhost:8080/",
          "height": 339
        },
        "outputId": "0d2a0be1-5030-4579-e0ce-00ccc03f30d9"
      },
      "source": [
        "#RANDOMIZED SEARCH----------------------------------------\n",
        "rand_parameters={'min_samples_leaf' : range(10,100,10),'max_depth': range(1,10,2),'max_features':[2,3,4],'n_estimators':[20,30,40]}\n",
        "\n",
        "rfc_random = RandomizedSearchCV(rfc,rand_parameters,n_iter=15,cv=5)\n",
        "rfc_random.fit(X_train, y_train)\n",
        "grid_parm_rfc=rfc_random.best_params_\n",
        "print(grid_parm_rfc)\n",
        "rfc= RandomForestClassifier(**grid_parm_rfc)\n",
        "rfc.fit(X_train,y_train)\n",
        "rfc_predict = rfc.predict(X_test)\n",
        "print(\"accuracy Score (testing) after hypertuning for Random Forest:{0:6f}\".format(rfc.score(X_test,y_test)))\n",
        "print(\"Confusion Matrix after hypertuning for Random Forest:\")\n",
        "print(confusion_matrix(y_test,rfc_predict))\n",
        "print(\"=== Classification Report ===\")\n",
        "print(classification_report(y_test,rfc_predict))\n",
        "rfc_cv_score = cross_val_score(rfc, X_train, y_train)\n",
        "print(rfc_cv_score)\n",
        "print('\\n')"
      ],
      "execution_count": null,
      "outputs": [
        {
          "output_type": "stream",
          "text": [
            "{'n_estimators': 20, 'min_samples_leaf': 30, 'max_features': 3, 'max_depth': 3}\n",
            "accuracy Score (testing) after hypertuning for Random Forest:0.847740\n",
            "Confusion Matrix after hypertuning for Random Forest:\n",
            "[[1069    0]\n",
            " [ 192    0]]\n",
            "=== Classification Report ===\n",
            "              precision    recall  f1-score   support\n",
            "\n",
            "           0       0.85      1.00      0.92      1069\n",
            "           1       0.00      0.00      0.00       192\n",
            "\n",
            "    accuracy                           0.85      1261\n",
            "   macro avg       0.42      0.50      0.46      1261\n",
            "weighted avg       0.72      0.85      0.78      1261\n",
            "\n",
            "[0.87403599 0.87403599 0.87596899]\n",
            "\n",
            "\n"
          ],
          "name": "stdout"
        }
      ]
    },
    {
      "cell_type": "code",
      "metadata": {
        "id": "jDMxSFj-QZMA",
        "colab_type": "code",
        "colab": {
          "base_uri": "https://localhost:8080/",
          "height": 267
        },
        "outputId": "5c851c21-ba97-430e-dea0-fd9789380a55"
      },
      "source": [
        "#SupportVectorMachine\n",
        "SVM = LinearSVC()\n",
        "SVM.fit(X_train,y_train)\n",
        "svm_predict = SVM.predict(X_test)\n",
        "\n",
        "print(\"accuracy Score (training) for SVM:{0:6f}\".format(SVM.score(X_test,y_test)))\n",
        "print(\"Confusion Matrix for SVM\")\n",
        "print(confusion_matrix(y_test,svm_predict))\n",
        "print(\"=== Classification Report ===\")\n",
        "print(classification_report(y_test,svm_predict))"
      ],
      "execution_count": null,
      "outputs": [
        {
          "output_type": "stream",
          "text": [
            "accuracy Score (training) for SVM:0.847740\n",
            "Confusion Matrix for SVM\n",
            "[[1069    0]\n",
            " [ 192    0]]\n",
            "=== Classification Report ===\n",
            "              precision    recall  f1-score   support\n",
            "\n",
            "           0       0.85      1.00      0.92      1069\n",
            "           1       0.00      0.00      0.00       192\n",
            "\n",
            "    accuracy                           0.85      1261\n",
            "   macro avg       0.42      0.50      0.46      1261\n",
            "weighted avg       0.72      0.85      0.78      1261\n",
            "\n"
          ],
          "name": "stdout"
        }
      ]
    },
    {
      "cell_type": "code",
      "metadata": {
        "id": "ipDHV3jNSK_b",
        "colab_type": "code",
        "colab": {
          "base_uri": "https://localhost:8080/",
          "height": 267
        },
        "outputId": "965ca1c7-649f-42ad-b51f-df78dbe08198"
      },
      "source": [
        "#Multi Layer Perceptron\n",
        "mlp = MLPClassifier()\n",
        "mlp.fit(X_train,y_train)\n",
        "mlp_predict = mlp.predict(X_test)\n",
        "\n",
        "print(\"accuracy Score (training) for MLP Classifier:{0:6f}\".format(mlp.score(X_test,y_test)))\n",
        "print(\"Confusion Matrix for MLP Classifier\")\n",
        "print(confusion_matrix(y_test,mlp_predict))\n",
        "print(\"=== Classification Report ===\")\n",
        "print(classification_report(y_test,mlp_predict))"
      ],
      "execution_count": null,
      "outputs": [
        {
          "output_type": "stream",
          "text": [
            "accuracy Score (training) for MLP Classifier:0.858049\n",
            "Confusion Matrix for MLP Classifier\n",
            "[[1053   16]\n",
            " [ 163   29]]\n",
            "=== Classification Report ===\n",
            "              precision    recall  f1-score   support\n",
            "\n",
            "           0       0.87      0.99      0.92      1069\n",
            "           1       0.64      0.15      0.24       192\n",
            "\n",
            "    accuracy                           0.86      1261\n",
            "   macro avg       0.76      0.57      0.58      1261\n",
            "weighted avg       0.83      0.86      0.82      1261\n",
            "\n"
          ],
          "name": "stdout"
        }
      ]
    },
    {
      "cell_type": "code",
      "metadata": {
        "id": "v3iVc8FTa4ux",
        "colab_type": "code",
        "colab": {
          "base_uri": "https://localhost:8080/",
          "height": 106
        },
        "outputId": "22a6dae4-7258-4de6-f1b9-e7c23f7b0871"
      },
      "source": [
        "#SMOTE==============================================================================\n",
        "print(\"___________________________________________________________________\\nSMOTE\\n\")\n",
        "print('Original dataset shape %s' % Counter(y_train))\n",
        "sm = SMOTE(sampling_strategy='float', ratio=0.5)\n",
        "X_res, y_res = sm.fit_resample(X_train, y_train)\n",
        "print('Resampled dataset shape %s' % Counter(y_res))"
      ],
      "execution_count": null,
      "outputs": [
        {
          "output_type": "stream",
          "text": [
            "___________________________________________________________________\n",
            "SMOTE\n",
            "\n",
            "Original dataset shape Counter({0: 1019, 1: 146})\n",
            "Resampled dataset shape Counter({0: 1019, 1: 509})\n"
          ],
          "name": "stdout"
        }
      ]
    },
    {
      "cell_type": "code",
      "metadata": {
        "id": "Bs0n616cbV2i",
        "colab_type": "code",
        "colab": {
          "base_uri": "https://localhost:8080/",
          "height": 660
        },
        "outputId": "d95f9f0f-e477-448d-f057-d21179ee4443"
      },
      "source": [
        "#STACKING MODELS =====================================================================\n",
        "print(\"___________________________________________________________________________________________\\nEnsemble Methods Predictions using MLP, RandomForest and Decision Tree Classifier\\n\")\n",
        "\n",
        "models = [ DecisionTreeClassifier(), RandomForestClassifier(), MLPClassifier() ]\n",
        "      \n",
        "S_Train, S_Test = stacking(models,                   \n",
        "                           X_train, y_train, X_test,   \n",
        "                           regression=False, \n",
        "     \n",
        "                           mode='oof_pred_bag', \n",
        "       \n",
        "                           needs_proba=False,\n",
        "         \n",
        "                           save_dir=None, \n",
        "            \n",
        "                           metric=accuracy_score, \n",
        "    \n",
        "                           n_folds=4, \n",
        "                 \n",
        "                           stratified=True,\n",
        "            \n",
        "                           shuffle=True,  \n",
        "            \n",
        "                           random_state=0,    \n",
        "         \n",
        "                           verbose=2)\n"
      ],
      "execution_count": null,
      "outputs": [
        {
          "output_type": "stream",
          "text": [
            "___________________________________________________________________________________________\n",
            "Ensemble Methods Predictions using MLP, RandomForest and Decision Tree Classifier\n",
            "\n",
            "task:         [classification]\n",
            "n_classes:    [2]\n",
            "metric:       [accuracy_score]\n",
            "mode:         [oof_pred_bag]\n",
            "n_models:     [3]\n",
            "\n",
            "model  0:     [DecisionTreeClassifier]\n",
            "    fold  0:  [0.90068493]\n",
            "    fold  1:  [0.90410959]\n",
            "    fold  2:  [0.91408935]\n",
            "    fold  3:  [0.87241379]\n",
            "    ----\n",
            "    MEAN:     [0.89782442] + [0.01547525]\n",
            "    FULL:     [0.89785408]\n",
            "\n",
            "model  1:     [RandomForestClassifier]\n",
            "    fold  0:  [0.91780822]\n",
            "    fold  1:  [0.92808219]\n",
            "    fold  2:  [0.91408935]\n",
            "    fold  3:  [0.90689655]\n",
            "    ----\n",
            "    MEAN:     [0.91671908] + [0.00764369]\n",
            "    FULL:     [0.91673820]\n",
            "\n",
            "model  2:     [MLPClassifier]\n",
            "    fold  0:  [0.72945205]\n",
            "    fold  1:  [0.87671233]\n",
            "    fold  2:  [0.87628866]\n",
            "    fold  3:  [0.88965517]\n",
            "    ----\n",
            "    MEAN:     [0.84302705] + [0.06579228]\n",
            "    FULL:     [0.84291845]\n",
            "\n"
          ],
          "name": "stdout"
        }
      ]
    },
    {
      "cell_type": "code",
      "metadata": {
        "id": "5LV2W3NEc10c",
        "colab_type": "code",
        "colab": {
          "base_uri": "https://localhost:8080/",
          "height": 267
        },
        "outputId": "4ca458e7-3013-4878-c121-71b7b2f920e8"
      },
      "source": [
        "#STACKING - CONTRUCT A Decision Tree MODEL==============================\n",
        "model = DecisionTreeClassifier()\n",
        "    \n",
        "model = model.fit(S_Train, y_train)\n",
        "y_pred = model.predict(S_Test)\n",
        "print('Final prediction score for ensemble methods: [%.8f]' % accuracy_score(y_test, y_pred))\n",
        "print(\"Confusion Matrix after STACKING for Boosting:\")\n",
        "print(confusion_matrix(y_test,y_pred))\n",
        "print(\"=== Classification Report ===\")\n",
        "print(classification_report(y_test,y_pred))"
      ],
      "execution_count": null,
      "outputs": [
        {
          "output_type": "stream",
          "text": [
            "Final prediction score for ensemble methods: [0.88183981]\n",
            "Confusion Matrix after STACKING for Boosting:\n",
            "[[1067    2]\n",
            " [ 147   45]]\n",
            "=== Classification Report ===\n",
            "              precision    recall  f1-score   support\n",
            "\n",
            "           0       0.88      1.00      0.93      1069\n",
            "           1       0.96      0.23      0.38       192\n",
            "\n",
            "    accuracy                           0.88      1261\n",
            "   macro avg       0.92      0.62      0.66      1261\n",
            "weighted avg       0.89      0.88      0.85      1261\n",
            "\n"
          ],
          "name": "stdout"
        }
      ]
    }
  ]
}